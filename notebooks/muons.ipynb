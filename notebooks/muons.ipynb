{
 "cells": [
  {
   "cell_type": "code",
   "execution_count": 1,
   "id": "ae952d51",
   "metadata": {},
   "outputs": [],
   "source": [
    "import awkward_pandas\n",
    "import pandas as pd\n",
    "import awkward as ak"
   ]
  },
  {
   "cell_type": "code",
   "execution_count": 2,
   "id": "c69c1b7f",
   "metadata": {},
   "outputs": [],
   "source": [
    "ds = ak.from_parquet(\"muons\")"
   ]
  },
  {
   "cell_type": "code",
   "execution_count": 3,
   "id": "4efc7d8a-5f64-4354-ab45-d2cc26e9d974",
   "metadata": {},
   "outputs": [
    {
     "name": "stdout",
     "output_type": "stream",
     "text": [
      "[{run: 1, luminosityBlock: 13, event: 1201, MET: {pt: 19.5, phi: 3.1}, muons: [], gen: [{pt: 60.4, ...}, ...]},\n",
      " {run: 1, luminosityBlock: 13, event: 1202, MET: {pt: 20.4, phi: -2.18}, muons: [{pt: 18.6, ...}, ...], gen: [{...}, ...]},\n",
      " {run: 1, luminosityBlock: 13, event: 1203, MET: {pt: 28.8, phi: 2.62}, muons: [], gen: [{pt: 40.6, ...}]},\n",
      " {run: 1, luminosityBlock: 13, event: 1204, MET: {pt: 4.42, phi: -0.206}, muons: [{pt: 26.7, ...}, ...], gen: [{...}, ...]},\n",
      " {run: 1, luminosityBlock: 13, event: 1205, MET: {pt: 5.86, phi: 2.47}, muons: [{pt: 7.62, eta: ..., ...}], gen: [...]},\n",
      " ...,\n",
      " {run: 1, luminosityBlock: 2801, event: 80097, MET: {pt: 17.6, phi: 2.15}, muons: [], gen: [{pt: 24, ...}, ...]},\n",
      " {run: 1, luminosityBlock: 2801, event: 80098, MET: {pt: 15.5, phi: 0.718}, muons: [{pt: 18.6, ...}, ...], gen: [...]},\n",
      " {run: 1, luminosityBlock: 2801, event: 80099, MET: {pt: 16.2, phi: -0.555}, muons: [{pt: 26.1, ...}, ...], gen: [...]},\n",
      " {run: 1, luminosityBlock: 2801, event: 80100, MET: {pt: 18.8, phi: 0.657}, muons: [{pt: 30.4, ...}, ...], gen: [...]}]\n"
     ]
    }
   ],
   "source": [
    "ds.show(limit_rows=10, limit_cols=140)"
   ]
  },
  {
   "cell_type": "code",
   "execution_count": 4,
   "id": "18968885",
   "metadata": {},
   "outputs": [],
   "source": [
    "s = awkward_pandas.from_awkward(ds, name=\"nested\")"
   ]
  },
  {
   "cell_type": "markdown",
   "id": "1489dd6e-de8e-437d-8c41-e6ac1d9a6dd4",
   "metadata": {
    "tags": []
   },
   "source": [
    "![](muons_dataset1.svg)"
   ]
  },
  {
   "cell_type": "code",
   "execution_count": 5,
   "id": "b5e1435b-7eae-4788-aa39-96161bd29294",
   "metadata": {},
   "outputs": [
    {
     "data": {
      "text/plain": [
       "0         {'run': 1, 'luminosityBlock': 13, 'event': 120...\n",
       "1         {'run': 1, 'luminosityBlock': 13, 'event': 120...\n",
       "2         {'run': 1, 'luminosityBlock': 13, 'event': 120...\n",
       "3         {'run': 1, 'luminosityBlock': 13, 'event': 120...\n",
       "4         {'run': 1, 'luminosityBlock': 13, 'event': 120...\n",
       "                                ...                        \n",
       "299678    {'run': 1, 'luminosityBlock': 2801, 'event': 8...\n",
       "299679    {'run': 1, 'luminosityBlock': 2801, 'event': 8...\n",
       "299680    {'run': 1, 'luminosityBlock': 2801, 'event': 8...\n",
       "299681    {'run': 1, 'luminosityBlock': 2801, 'event': 8...\n",
       "299682    {'run': 1, 'luminosityBlock': 2801, 'event': 8...\n",
       "Name: nested, Length: 299683, dtype: awkward"
      ]
     },
     "execution_count": 5,
     "metadata": {},
     "output_type": "execute_result"
    }
   ],
   "source": [
    "s"
   ]
  },
  {
   "cell_type": "markdown",
   "id": "64b5978e-9962-40f7-ae4b-bfd6c733a855",
   "metadata": {},
   "source": [
    "We can \"unroll\" the Series into a DataFrame by extracting columns that are primitive types (e.g. Series of ints or floats). We do this with the awkward accessor (`.ak` on the Series). In the accessor we have a `to_columns` method:"
   ]
  },
  {
   "cell_type": "code",
   "execution_count": 6,
   "id": "30dc3935",
   "metadata": {},
   "outputs": [],
   "source": [
    "df = s.ak.to_columns()"
   ]
  },
  {
   "cell_type": "markdown",
   "id": "c05cac88-eb25-49b2-88db-ee096d2d86d4",
   "metadata": {
    "tags": []
   },
   "source": [
    "![](muons_dataset_df.svg)"
   ]
  },
  {
   "cell_type": "code",
   "execution_count": 7,
   "id": "e2ccc8ec-6892-48c9-b4a1-8e75db0b9e5a",
   "metadata": {},
   "outputs": [
    {
     "data": {
      "text/html": [
       "<div>\n",
       "<style scoped>\n",
       "    .dataframe tbody tr th:only-of-type {\n",
       "        vertical-align: middle;\n",
       "    }\n",
       "\n",
       "    .dataframe tbody tr th {\n",
       "        vertical-align: top;\n",
       "    }\n",
       "\n",
       "    .dataframe thead th {\n",
       "        text-align: right;\n",
       "    }\n",
       "</style>\n",
       "<table border=\"1\" class=\"dataframe\">\n",
       "  <thead>\n",
       "    <tr style=\"text-align: right;\">\n",
       "      <th></th>\n",
       "      <th>run</th>\n",
       "      <th>luminosityBlock</th>\n",
       "      <th>event</th>\n",
       "      <th>nested</th>\n",
       "    </tr>\n",
       "  </thead>\n",
       "  <tbody>\n",
       "    <tr>\n",
       "      <th>0</th>\n",
       "      <td>1</td>\n",
       "      <td>13</td>\n",
       "      <td>1201</td>\n",
       "      <td>{'MET': {'pt': 19.49629020690918, 'phi': 3.096...</td>\n",
       "    </tr>\n",
       "    <tr>\n",
       "      <th>1</th>\n",
       "      <td>1</td>\n",
       "      <td>13</td>\n",
       "      <td>1202</td>\n",
       "      <td>{'MET': {'pt': 20.397918701171875, 'phi': -2.1...</td>\n",
       "    </tr>\n",
       "    <tr>\n",
       "      <th>2</th>\n",
       "      <td>1</td>\n",
       "      <td>13</td>\n",
       "      <td>1203</td>\n",
       "      <td>{'MET': {'pt': 28.81757164001465, 'phi': 2.616...</td>\n",
       "    </tr>\n",
       "    <tr>\n",
       "      <th>3</th>\n",
       "      <td>1</td>\n",
       "      <td>13</td>\n",
       "      <td>1204</td>\n",
       "      <td>{'MET': {'pt': 4.415469169616699, 'phi': -0.20...</td>\n",
       "    </tr>\n",
       "    <tr>\n",
       "      <th>4</th>\n",
       "      <td>1</td>\n",
       "      <td>13</td>\n",
       "      <td>1205</td>\n",
       "      <td>{'MET': {'pt': 5.85665225982666, 'phi': 2.4723...</td>\n",
       "    </tr>\n",
       "    <tr>\n",
       "      <th>...</th>\n",
       "      <td>...</td>\n",
       "      <td>...</td>\n",
       "      <td>...</td>\n",
       "      <td>...</td>\n",
       "    </tr>\n",
       "    <tr>\n",
       "      <th>299678</th>\n",
       "      <td>1</td>\n",
       "      <td>2801</td>\n",
       "      <td>80096</td>\n",
       "      <td>{'MET': {'pt': 13.942445755004883, 'phi': -0.2...</td>\n",
       "    </tr>\n",
       "    <tr>\n",
       "      <th>299679</th>\n",
       "      <td>1</td>\n",
       "      <td>2801</td>\n",
       "      <td>80097</td>\n",
       "      <td>{'MET': {'pt': 17.55270004272461, 'phi': 2.154...</td>\n",
       "    </tr>\n",
       "    <tr>\n",
       "      <th>299680</th>\n",
       "      <td>1</td>\n",
       "      <td>2801</td>\n",
       "      <td>80098</td>\n",
       "      <td>{'MET': {'pt': 15.480612754821777, 'phi': 0.71...</td>\n",
       "    </tr>\n",
       "    <tr>\n",
       "      <th>299681</th>\n",
       "      <td>1</td>\n",
       "      <td>2801</td>\n",
       "      <td>80099</td>\n",
       "      <td>{'MET': {'pt': 16.163414001464844, 'phi': -0.5...</td>\n",
       "    </tr>\n",
       "    <tr>\n",
       "      <th>299682</th>\n",
       "      <td>1</td>\n",
       "      <td>2801</td>\n",
       "      <td>80100</td>\n",
       "      <td>{'MET': {'pt': 18.839515686035156, 'phi': 0.65...</td>\n",
       "    </tr>\n",
       "  </tbody>\n",
       "</table>\n",
       "<p>299683 rows × 4 columns</p>\n",
       "</div>"
      ],
      "text/plain": [
       "        run  luminosityBlock  event  \\\n",
       "0         1               13   1201   \n",
       "1         1               13   1202   \n",
       "2         1               13   1203   \n",
       "3         1               13   1204   \n",
       "4         1               13   1205   \n",
       "...     ...              ...    ...   \n",
       "299678    1             2801  80096   \n",
       "299679    1             2801  80097   \n",
       "299680    1             2801  80098   \n",
       "299681    1             2801  80099   \n",
       "299682    1             2801  80100   \n",
       "\n",
       "                                                   nested  \n",
       "0       {'MET': {'pt': 19.49629020690918, 'phi': 3.096...  \n",
       "1       {'MET': {'pt': 20.397918701171875, 'phi': -2.1...  \n",
       "2       {'MET': {'pt': 28.81757164001465, 'phi': 2.616...  \n",
       "3       {'MET': {'pt': 4.415469169616699, 'phi': -0.20...  \n",
       "4       {'MET': {'pt': 5.85665225982666, 'phi': 2.4723...  \n",
       "...                                                   ...  \n",
       "299678  {'MET': {'pt': 13.942445755004883, 'phi': -0.2...  \n",
       "299679  {'MET': {'pt': 17.55270004272461, 'phi': 2.154...  \n",
       "299680  {'MET': {'pt': 15.480612754821777, 'phi': 0.71...  \n",
       "299681  {'MET': {'pt': 16.163414001464844, 'phi': -0.5...  \n",
       "299682  {'MET': {'pt': 18.839515686035156, 'phi': 0.65...  \n",
       "\n",
       "[299683 rows x 4 columns]"
      ]
     },
     "execution_count": 7,
     "metadata": {},
     "output_type": "execute_result"
    }
   ],
   "source": [
    "df"
   ]
  },
  {
   "cell_type": "code",
   "execution_count": 8,
   "id": "c72aa55e-838f-49c9-9da1-c3150b1ab28c",
   "metadata": {},
   "outputs": [
    {
     "data": {
      "text/plain": [
       "0           13\n",
       "1           13\n",
       "2           13\n",
       "3           13\n",
       "4           13\n",
       "          ... \n",
       "299678    2801\n",
       "299679    2801\n",
       "299680    2801\n",
       "299681    2801\n",
       "299682    2801\n",
       "Name: luminosityBlock, Length: 299683, dtype: int64"
      ]
     },
     "execution_count": 8,
     "metadata": {},
     "output_type": "execute_result"
    }
   ],
   "source": [
    "df.luminosityBlock"
   ]
  },
  {
   "cell_type": "code",
   "execution_count": 10,
   "id": "2148040b-99de-4c4a-96dc-515c537a4959",
   "metadata": {},
   "outputs": [
    {
     "data": {
      "text/plain": [
       "<Array [{MET: {...}, muons: [], ...}, ...] type='299683 * {MET: {pt: float6...'>"
      ]
     },
     "execution_count": 10,
     "metadata": {},
     "output_type": "execute_result"
    }
   ],
   "source": [
    "df.nested.values._data"
   ]
  },
  {
   "cell_type": "code",
   "execution_count": 11,
   "id": "c541dc8c",
   "metadata": {},
   "outputs": [],
   "source": [
    "muons_series = df.nested.ak[\"muons\"]"
   ]
  },
  {
   "cell_type": "code",
   "execution_count": 12,
   "id": "f6e93950",
   "metadata": {},
   "outputs": [
    {
     "data": {
      "text/plain": [
       "0                                                        []\n",
       "1         [{'pt': 18.583789825439453, 'eta': -0.17873963...\n",
       "2                                                        []\n",
       "3         [{'pt': 26.678863525390625, 'eta': -1.23002457...\n",
       "4         [{'pt': 7.621268272399902, 'eta': 2.1535851955...\n",
       "                                ...                        \n",
       "299678    [{'pt': 5.740289211273193, 'eta': -1.979136943...\n",
       "299679                                                   []\n",
       "299680    [{'pt': 18.630128860473633, 'eta': 0.646761536...\n",
       "299681    [{'pt': 26.122941970825195, 'eta': -1.98191392...\n",
       "299682    [{'pt': 30.407604217529297, 'eta': 1.319252133...\n",
       "Length: 299683, dtype: awkward"
      ]
     },
     "execution_count": 12,
     "metadata": {},
     "output_type": "execute_result"
    }
   ],
   "source": [
    "muons_series"
   ]
  },
  {
   "cell_type": "code",
   "execution_count": 13,
   "id": "7dac1797-496a-45ca-89cc-f663025b849f",
   "metadata": {},
   "outputs": [],
   "source": [
    "n_muons_list = [len(x) for x in muons_series]"
   ]
  },
  {
   "cell_type": "markdown",
   "id": "04ecbc23-4834-4ebe-bdb5-f2e467c2137d",
   "metadata": {},
   "source": [
    "In awkward-pandas world we have access to functions from the awkward-array API:"
   ]
  },
  {
   "cell_type": "code",
   "execution_count": 14,
   "id": "d890022a-cee1-49e6-b660-b056b1b3193a",
   "metadata": {},
   "outputs": [],
   "source": [
    "n_muons_series = muons_series.ak.num(axis=1)"
   ]
  },
  {
   "cell_type": "markdown",
   "id": "9d53798e-de6d-49b4-a536-15043341b4f7",
   "metadata": {},
   "source": [
    "Huge performance improvement with compiled awkward code over Python iteration!"
   ]
  },
  {
   "cell_type": "code",
   "execution_count": 15,
   "id": "4935847b-b227-4251-847b-03071a168374",
   "metadata": {},
   "outputs": [
    {
     "data": {
      "text/plain": [
       "True"
      ]
     },
     "execution_count": 15,
     "metadata": {},
     "output_type": "execute_result"
    }
   ],
   "source": [
    "n_muons_list == n_muons_series.tolist()"
   ]
  },
  {
   "cell_type": "markdown",
   "id": "545ee386-4ecb-4c50-970c-6496f26420ba",
   "metadata": {},
   "source": [
    "And we can use the results with other pandas analysis workflows..."
   ]
  },
  {
   "cell_type": "code",
   "execution_count": 16,
   "id": "3c111826-5b67-4487-a3f4-1bbbaa5a5690",
   "metadata": {},
   "outputs": [
    {
     "data": {
      "text/plain": [
       "0         0\n",
       "1         2\n",
       "2         0\n",
       "3         3\n",
       "4         1\n",
       "         ..\n",
       "299678    2\n",
       "299679    0\n",
       "299680    2\n",
       "299681    3\n",
       "299682    4\n",
       "Length: 299683, dtype: int64"
      ]
     },
     "execution_count": 16,
     "metadata": {},
     "output_type": "execute_result"
    }
   ],
   "source": [
    "n_muons_series"
   ]
  },
  {
   "cell_type": "code",
   "execution_count": 17,
   "id": "e648f4b8-f776-48b6-8dcc-3a9b73ce255a",
   "metadata": {},
   "outputs": [],
   "source": [
    "df[\"n_muons\"] = n_muons_series"
   ]
  },
  {
   "cell_type": "code",
   "execution_count": 18,
   "id": "c4d138d0-e2dd-4dab-979c-63e02ac1c267",
   "metadata": {},
   "outputs": [
    {
     "data": {
      "text/html": [
       "<div>\n",
       "<style scoped>\n",
       "    .dataframe tbody tr th:only-of-type {\n",
       "        vertical-align: middle;\n",
       "    }\n",
       "\n",
       "    .dataframe tbody tr th {\n",
       "        vertical-align: top;\n",
       "    }\n",
       "\n",
       "    .dataframe thead th {\n",
       "        text-align: right;\n",
       "    }\n",
       "</style>\n",
       "<table border=\"1\" class=\"dataframe\">\n",
       "  <thead>\n",
       "    <tr style=\"text-align: right;\">\n",
       "      <th></th>\n",
       "      <th>run</th>\n",
       "      <th>luminosityBlock</th>\n",
       "      <th>event</th>\n",
       "      <th>nested</th>\n",
       "      <th>n_muons</th>\n",
       "    </tr>\n",
       "  </thead>\n",
       "  <tbody>\n",
       "    <tr>\n",
       "      <th>0</th>\n",
       "      <td>1</td>\n",
       "      <td>13</td>\n",
       "      <td>1201</td>\n",
       "      <td>{'MET': {'pt': 19.49629020690918, 'phi': 3.096...</td>\n",
       "      <td>0</td>\n",
       "    </tr>\n",
       "    <tr>\n",
       "      <th>1</th>\n",
       "      <td>1</td>\n",
       "      <td>13</td>\n",
       "      <td>1202</td>\n",
       "      <td>{'MET': {'pt': 20.397918701171875, 'phi': -2.1...</td>\n",
       "      <td>2</td>\n",
       "    </tr>\n",
       "    <tr>\n",
       "      <th>2</th>\n",
       "      <td>1</td>\n",
       "      <td>13</td>\n",
       "      <td>1203</td>\n",
       "      <td>{'MET': {'pt': 28.81757164001465, 'phi': 2.616...</td>\n",
       "      <td>0</td>\n",
       "    </tr>\n",
       "    <tr>\n",
       "      <th>3</th>\n",
       "      <td>1</td>\n",
       "      <td>13</td>\n",
       "      <td>1204</td>\n",
       "      <td>{'MET': {'pt': 4.415469169616699, 'phi': -0.20...</td>\n",
       "      <td>3</td>\n",
       "    </tr>\n",
       "    <tr>\n",
       "      <th>4</th>\n",
       "      <td>1</td>\n",
       "      <td>13</td>\n",
       "      <td>1205</td>\n",
       "      <td>{'MET': {'pt': 5.85665225982666, 'phi': 2.4723...</td>\n",
       "      <td>1</td>\n",
       "    </tr>\n",
       "    <tr>\n",
       "      <th>...</th>\n",
       "      <td>...</td>\n",
       "      <td>...</td>\n",
       "      <td>...</td>\n",
       "      <td>...</td>\n",
       "      <td>...</td>\n",
       "    </tr>\n",
       "    <tr>\n",
       "      <th>299678</th>\n",
       "      <td>1</td>\n",
       "      <td>2801</td>\n",
       "      <td>80096</td>\n",
       "      <td>{'MET': {'pt': 13.942445755004883, 'phi': -0.2...</td>\n",
       "      <td>2</td>\n",
       "    </tr>\n",
       "    <tr>\n",
       "      <th>299679</th>\n",
       "      <td>1</td>\n",
       "      <td>2801</td>\n",
       "      <td>80097</td>\n",
       "      <td>{'MET': {'pt': 17.55270004272461, 'phi': 2.154...</td>\n",
       "      <td>0</td>\n",
       "    </tr>\n",
       "    <tr>\n",
       "      <th>299680</th>\n",
       "      <td>1</td>\n",
       "      <td>2801</td>\n",
       "      <td>80098</td>\n",
       "      <td>{'MET': {'pt': 15.480612754821777, 'phi': 0.71...</td>\n",
       "      <td>2</td>\n",
       "    </tr>\n",
       "    <tr>\n",
       "      <th>299681</th>\n",
       "      <td>1</td>\n",
       "      <td>2801</td>\n",
       "      <td>80099</td>\n",
       "      <td>{'MET': {'pt': 16.163414001464844, 'phi': -0.5...</td>\n",
       "      <td>3</td>\n",
       "    </tr>\n",
       "    <tr>\n",
       "      <th>299682</th>\n",
       "      <td>1</td>\n",
       "      <td>2801</td>\n",
       "      <td>80100</td>\n",
       "      <td>{'MET': {'pt': 18.839515686035156, 'phi': 0.65...</td>\n",
       "      <td>4</td>\n",
       "    </tr>\n",
       "  </tbody>\n",
       "</table>\n",
       "<p>299683 rows × 5 columns</p>\n",
       "</div>"
      ],
      "text/plain": [
       "        run  luminosityBlock  event  \\\n",
       "0         1               13   1201   \n",
       "1         1               13   1202   \n",
       "2         1               13   1203   \n",
       "3         1               13   1204   \n",
       "4         1               13   1205   \n",
       "...     ...              ...    ...   \n",
       "299678    1             2801  80096   \n",
       "299679    1             2801  80097   \n",
       "299680    1             2801  80098   \n",
       "299681    1             2801  80099   \n",
       "299682    1             2801  80100   \n",
       "\n",
       "                                                   nested  n_muons  \n",
       "0       {'MET': {'pt': 19.49629020690918, 'phi': 3.096...        0  \n",
       "1       {'MET': {'pt': 20.397918701171875, 'phi': -2.1...        2  \n",
       "2       {'MET': {'pt': 28.81757164001465, 'phi': 2.616...        0  \n",
       "3       {'MET': {'pt': 4.415469169616699, 'phi': -0.20...        3  \n",
       "4       {'MET': {'pt': 5.85665225982666, 'phi': 2.4723...        1  \n",
       "...                                                   ...      ...  \n",
       "299678  {'MET': {'pt': 13.942445755004883, 'phi': -0.2...        2  \n",
       "299679  {'MET': {'pt': 17.55270004272461, 'phi': 2.154...        0  \n",
       "299680  {'MET': {'pt': 15.480612754821777, 'phi': 0.71...        2  \n",
       "299681  {'MET': {'pt': 16.163414001464844, 'phi': -0.5...        3  \n",
       "299682  {'MET': {'pt': 18.839515686035156, 'phi': 0.65...        4  \n",
       "\n",
       "[299683 rows x 5 columns]"
      ]
     },
     "execution_count": 18,
     "metadata": {},
     "output_type": "execute_result"
    }
   ],
   "source": [
    "df"
   ]
  },
  {
   "cell_type": "code",
   "execution_count": 19,
   "id": "7c23b25c-448f-406b-ad96-c1a3d95ac16e",
   "metadata": {
    "tags": []
   },
   "outputs": [
    {
     "data": {
      "text/html": [
       "<div>\n",
       "<style scoped>\n",
       "    .dataframe tbody tr th:only-of-type {\n",
       "        vertical-align: middle;\n",
       "    }\n",
       "\n",
       "    .dataframe tbody tr th {\n",
       "        vertical-align: top;\n",
       "    }\n",
       "\n",
       "    .dataframe thead th {\n",
       "        text-align: right;\n",
       "    }\n",
       "</style>\n",
       "<table border=\"1\" class=\"dataframe\">\n",
       "  <thead>\n",
       "    <tr style=\"text-align: right;\">\n",
       "      <th></th>\n",
       "      <th>run</th>\n",
       "      <th>luminosityBlock</th>\n",
       "      <th>event</th>\n",
       "      <th>nested</th>\n",
       "      <th>n_muons</th>\n",
       "    </tr>\n",
       "  </thead>\n",
       "  <tbody>\n",
       "    <tr>\n",
       "      <th>1</th>\n",
       "      <td>1</td>\n",
       "      <td>13</td>\n",
       "      <td>1202</td>\n",
       "      <td>{'MET': {'pt': 20.397918701171875, 'phi': -2.1...</td>\n",
       "      <td>2</td>\n",
       "    </tr>\n",
       "    <tr>\n",
       "      <th>9</th>\n",
       "      <td>1</td>\n",
       "      <td>13</td>\n",
       "      <td>1210</td>\n",
       "      <td>{'MET': {'pt': 23.15256118774414, 'phi': -1.34...</td>\n",
       "      <td>2</td>\n",
       "    </tr>\n",
       "    <tr>\n",
       "      <th>10</th>\n",
       "      <td>1</td>\n",
       "      <td>13</td>\n",
       "      <td>1211</td>\n",
       "      <td>{'MET': {'pt': 8.993561744689941, 'phi': -0.69...</td>\n",
       "      <td>2</td>\n",
       "    </tr>\n",
       "    <tr>\n",
       "      <th>15</th>\n",
       "      <td>1</td>\n",
       "      <td>13</td>\n",
       "      <td>1216</td>\n",
       "      <td>{'MET': {'pt': 13.729865074157715, 'phi': -2.4...</td>\n",
       "      <td>2</td>\n",
       "    </tr>\n",
       "    <tr>\n",
       "      <th>16</th>\n",
       "      <td>1</td>\n",
       "      <td>13</td>\n",
       "      <td>1217</td>\n",
       "      <td>{'MET': {'pt': 26.599597930908203, 'phi': -1.7...</td>\n",
       "      <td>2</td>\n",
       "    </tr>\n",
       "    <tr>\n",
       "      <th>...</th>\n",
       "      <td>...</td>\n",
       "      <td>...</td>\n",
       "      <td>...</td>\n",
       "      <td>...</td>\n",
       "      <td>...</td>\n",
       "    </tr>\n",
       "    <tr>\n",
       "      <th>299672</th>\n",
       "      <td>1</td>\n",
       "      <td>2801</td>\n",
       "      <td>80090</td>\n",
       "      <td>{'MET': {'pt': 6.853196620941162, 'phi': 2.216...</td>\n",
       "      <td>2</td>\n",
       "    </tr>\n",
       "    <tr>\n",
       "      <th>299674</th>\n",
       "      <td>1</td>\n",
       "      <td>2801</td>\n",
       "      <td>80092</td>\n",
       "      <td>{'MET': {'pt': 2.984848737716675, 'phi': -2.55...</td>\n",
       "      <td>2</td>\n",
       "    </tr>\n",
       "    <tr>\n",
       "      <th>299675</th>\n",
       "      <td>1</td>\n",
       "      <td>2801</td>\n",
       "      <td>80093</td>\n",
       "      <td>{'MET': {'pt': 26.48899269104004, 'phi': -1.61...</td>\n",
       "      <td>2</td>\n",
       "    </tr>\n",
       "    <tr>\n",
       "      <th>299678</th>\n",
       "      <td>1</td>\n",
       "      <td>2801</td>\n",
       "      <td>80096</td>\n",
       "      <td>{'MET': {'pt': 13.942445755004883, 'phi': -0.2...</td>\n",
       "      <td>2</td>\n",
       "    </tr>\n",
       "    <tr>\n",
       "      <th>299680</th>\n",
       "      <td>1</td>\n",
       "      <td>2801</td>\n",
       "      <td>80098</td>\n",
       "      <td>{'MET': {'pt': 15.480612754821777, 'phi': 0.71...</td>\n",
       "      <td>2</td>\n",
       "    </tr>\n",
       "  </tbody>\n",
       "</table>\n",
       "<p>91057 rows × 5 columns</p>\n",
       "</div>"
      ],
      "text/plain": [
       "        run  luminosityBlock  event  \\\n",
       "1         1               13   1202   \n",
       "9         1               13   1210   \n",
       "10        1               13   1211   \n",
       "15        1               13   1216   \n",
       "16        1               13   1217   \n",
       "...     ...              ...    ...   \n",
       "299672    1             2801  80090   \n",
       "299674    1             2801  80092   \n",
       "299675    1             2801  80093   \n",
       "299678    1             2801  80096   \n",
       "299680    1             2801  80098   \n",
       "\n",
       "                                                   nested  n_muons  \n",
       "1       {'MET': {'pt': 20.397918701171875, 'phi': -2.1...        2  \n",
       "9       {'MET': {'pt': 23.15256118774414, 'phi': -1.34...        2  \n",
       "10      {'MET': {'pt': 8.993561744689941, 'phi': -0.69...        2  \n",
       "15      {'MET': {'pt': 13.729865074157715, 'phi': -2.4...        2  \n",
       "16      {'MET': {'pt': 26.599597930908203, 'phi': -1.7...        2  \n",
       "...                                                   ...      ...  \n",
       "299672  {'MET': {'pt': 6.853196620941162, 'phi': 2.216...        2  \n",
       "299674  {'MET': {'pt': 2.984848737716675, 'phi': -2.55...        2  \n",
       "299675  {'MET': {'pt': 26.48899269104004, 'phi': -1.61...        2  \n",
       "299678  {'MET': {'pt': 13.942445755004883, 'phi': -0.2...        2  \n",
       "299680  {'MET': {'pt': 15.480612754821777, 'phi': 0.71...        2  \n",
       "\n",
       "[91057 rows x 5 columns]"
      ]
     },
     "execution_count": 19,
     "metadata": {},
     "output_type": "execute_result"
    }
   ],
   "source": [
    "df.query(\"n_muons == 2\")"
   ]
  },
  {
   "cell_type": "code",
   "execution_count": 20,
   "id": "fa29948d-51e1-4e78-940d-5254ac83c0a4",
   "metadata": {},
   "outputs": [],
   "source": [
    "df = df.query(\"n_muons == 2\")"
   ]
  },
  {
   "cell_type": "code",
   "execution_count": 21,
   "id": "7f7bdb67-1d48-4e51-8281-646b1bfa949f",
   "metadata": {},
   "outputs": [
    {
     "data": {
      "text/plain": [
       "<AxesSubplot: >"
      ]
     },
     "execution_count": 21,
     "metadata": {},
     "output_type": "execute_result"
    },
    {
     "data": {
      "image/png": "[encoded data removed]",
      "text/plain": [
       "<Figure size 640x480 with 1 Axes>"
      ]
     },
     "metadata": {},
     "output_type": "display_data"
    }
   ],
   "source": [
    "def inv_mass(array):\n",
    "    mu1 = array.muons[:, 0]\n",
    "    mu2 = array.muons[:, 1]\n",
    "    return np.sqrt(2*mu1.pt*mu2.pt*(np.cosh(mu1.eta - mu2.eta) - np.cos(mu1.phi - mu2.phi)))\n",
    "\n",
    "df.nested.ak.apply(inv_mass).hist(bins=50, range=(0, 100))"
   ]
  },
  {
   "cell_type": "code",
   "execution_count": null,
   "id": "38b26851-a289-49d6-9e45-ddf5afff83be",
   "metadata": {},
   "outputs": [],
   "source": []
  }
 ],
 "metadata": {
  "kernelspec": {
   "display_name": "Python 3 (ipykernel)",
   "language": "python",
   "name": "python3"
  },
  "language_info": {
   "codemirror_mode": {
    "name": "ipython",
    "version": 3
   },
   "file_extension": ".py",
   "mimetype": "text/x-python",
   "name": "python",
   "nbconvert_exporter": "python",
   "pygments_lexer": "ipython3",
   "version": "3.10.8"
  }
 },
 "nbformat": 4,
 "nbformat_minor": 5
}
